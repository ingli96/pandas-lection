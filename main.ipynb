{
 "cells": [
  {
   "cell_type": "code",
   "execution_count": 3,
   "outputs": [],
   "source": [
    "import pandas as pd\n",
    "# первым делом импортируем библиотеку, для краткости присвоим ей имя pd"
   ],
   "metadata": {
    "collapsed": false,
    "pycharm": {
     "name": "#%%\n"
    }
   }
  },
  {
   "cell_type": "code",
   "execution_count": 4,
   "outputs": [
    {
     "data": {
      "text/plain": "                       FIPS     Admin2  Province_State          Last_Update  \\\nCountry_Region                                                                \nUS                  45001.0  Abbeville  South Carolina  2020-04-13 23:07:54   \nUS                  22001.0     Acadia       Louisiana  2020-04-13 23:07:54   \nUS                  51001.0   Accomack        Virginia  2020-04-13 23:07:54   \nUS                  16001.0        Ada           Idaho  2020-04-13 23:07:54   \nUS                  19001.0      Adair            Iowa  2020-04-13 23:07:54   \n...                     ...        ...             ...                  ...   \nWest Bank and Gaza      NaN        NaN             NaN  2020-04-13 23:07:34   \nWestern Sahara          NaN        NaN             NaN  2020-04-13 23:07:34   \nYemen                   NaN        NaN             NaN  2020-04-13 23:07:34   \nZambia                  NaN        NaN             NaN  2020-04-13 23:07:34   \nZimbabwe                NaN        NaN             NaN  2020-04-13 23:07:34   \n\n                          Lat       Long_  Confirmed  Deaths  Recovered  \\\nCountry_Region                                                            \nUS                  34.223334  -82.461707          9       0          0   \nUS                  30.295065  -92.414197        101       5          0   \nUS                  37.767072  -75.632346         15       0          0   \nUS                  43.452658 -116.241552        517       6          0   \nUS                  41.330756  -94.471059          1       0          0   \n...                       ...         ...        ...     ...        ...   \nWest Bank and Gaza  31.952200   35.233200        308       2         58   \nWestern Sahara      24.215500  -12.885800          6       0          0   \nYemen               15.552727   48.516388          1       0          0   \nZambia             -13.133897   27.849332         45       2         30   \nZimbabwe           -19.015438   29.154857         17       3          0   \n\n                    Active                   Combined_Key  \nCountry_Region                                             \nUS                       9  Abbeville, South Carolina, US  \nUS                      96          Acadia, Louisiana, US  \nUS                      15         Accomack, Virginia, US  \nUS                     511                 Ada, Idaho, US  \nUS                       1                Adair, Iowa, US  \n...                    ...                            ...  \nWest Bank and Gaza     248             West Bank and Gaza  \nWestern Sahara           6                 Western Sahara  \nYemen                    1                          Yemen  \nZambia                  13                         Zambia  \nZimbabwe                14                       Zimbabwe  \n\n[3002 rows x 11 columns]",
      "text/html": "<div>\n<style scoped>\n    .dataframe tbody tr th:only-of-type {\n        vertical-align: middle;\n    }\n\n    .dataframe tbody tr th {\n        vertical-align: top;\n    }\n\n    .dataframe thead th {\n        text-align: right;\n    }\n</style>\n<table border=\"1\" class=\"dataframe\">\n  <thead>\n    <tr style=\"text-align: right;\">\n      <th></th>\n      <th>FIPS</th>\n      <th>Admin2</th>\n      <th>Province_State</th>\n      <th>Last_Update</th>\n      <th>Lat</th>\n      <th>Long_</th>\n      <th>Confirmed</th>\n      <th>Deaths</th>\n      <th>Recovered</th>\n      <th>Active</th>\n      <th>Combined_Key</th>\n    </tr>\n    <tr>\n      <th>Country_Region</th>\n      <th></th>\n      <th></th>\n      <th></th>\n      <th></th>\n      <th></th>\n      <th></th>\n      <th></th>\n      <th></th>\n      <th></th>\n      <th></th>\n      <th></th>\n    </tr>\n  </thead>\n  <tbody>\n    <tr>\n      <th>US</th>\n      <td>45001.0</td>\n      <td>Abbeville</td>\n      <td>South Carolina</td>\n      <td>2020-04-13 23:07:54</td>\n      <td>34.223334</td>\n      <td>-82.461707</td>\n      <td>9</td>\n      <td>0</td>\n      <td>0</td>\n      <td>9</td>\n      <td>Abbeville, South Carolina, US</td>\n    </tr>\n    <tr>\n      <th>US</th>\n      <td>22001.0</td>\n      <td>Acadia</td>\n      <td>Louisiana</td>\n      <td>2020-04-13 23:07:54</td>\n      <td>30.295065</td>\n      <td>-92.414197</td>\n      <td>101</td>\n      <td>5</td>\n      <td>0</td>\n      <td>96</td>\n      <td>Acadia, Louisiana, US</td>\n    </tr>\n    <tr>\n      <th>US</th>\n      <td>51001.0</td>\n      <td>Accomack</td>\n      <td>Virginia</td>\n      <td>2020-04-13 23:07:54</td>\n      <td>37.767072</td>\n      <td>-75.632346</td>\n      <td>15</td>\n      <td>0</td>\n      <td>0</td>\n      <td>15</td>\n      <td>Accomack, Virginia, US</td>\n    </tr>\n    <tr>\n      <th>US</th>\n      <td>16001.0</td>\n      <td>Ada</td>\n      <td>Idaho</td>\n      <td>2020-04-13 23:07:54</td>\n      <td>43.452658</td>\n      <td>-116.241552</td>\n      <td>517</td>\n      <td>6</td>\n      <td>0</td>\n      <td>511</td>\n      <td>Ada, Idaho, US</td>\n    </tr>\n    <tr>\n      <th>US</th>\n      <td>19001.0</td>\n      <td>Adair</td>\n      <td>Iowa</td>\n      <td>2020-04-13 23:07:54</td>\n      <td>41.330756</td>\n      <td>-94.471059</td>\n      <td>1</td>\n      <td>0</td>\n      <td>0</td>\n      <td>1</td>\n      <td>Adair, Iowa, US</td>\n    </tr>\n    <tr>\n      <th>...</th>\n      <td>...</td>\n      <td>...</td>\n      <td>...</td>\n      <td>...</td>\n      <td>...</td>\n      <td>...</td>\n      <td>...</td>\n      <td>...</td>\n      <td>...</td>\n      <td>...</td>\n      <td>...</td>\n    </tr>\n    <tr>\n      <th>West Bank and Gaza</th>\n      <td>NaN</td>\n      <td>NaN</td>\n      <td>NaN</td>\n      <td>2020-04-13 23:07:34</td>\n      <td>31.952200</td>\n      <td>35.233200</td>\n      <td>308</td>\n      <td>2</td>\n      <td>58</td>\n      <td>248</td>\n      <td>West Bank and Gaza</td>\n    </tr>\n    <tr>\n      <th>Western Sahara</th>\n      <td>NaN</td>\n      <td>NaN</td>\n      <td>NaN</td>\n      <td>2020-04-13 23:07:34</td>\n      <td>24.215500</td>\n      <td>-12.885800</td>\n      <td>6</td>\n      <td>0</td>\n      <td>0</td>\n      <td>6</td>\n      <td>Western Sahara</td>\n    </tr>\n    <tr>\n      <th>Yemen</th>\n      <td>NaN</td>\n      <td>NaN</td>\n      <td>NaN</td>\n      <td>2020-04-13 23:07:34</td>\n      <td>15.552727</td>\n      <td>48.516388</td>\n      <td>1</td>\n      <td>0</td>\n      <td>0</td>\n      <td>1</td>\n      <td>Yemen</td>\n    </tr>\n    <tr>\n      <th>Zambia</th>\n      <td>NaN</td>\n      <td>NaN</td>\n      <td>NaN</td>\n      <td>2020-04-13 23:07:34</td>\n      <td>-13.133897</td>\n      <td>27.849332</td>\n      <td>45</td>\n      <td>2</td>\n      <td>30</td>\n      <td>13</td>\n      <td>Zambia</td>\n    </tr>\n    <tr>\n      <th>Zimbabwe</th>\n      <td>NaN</td>\n      <td>NaN</td>\n      <td>NaN</td>\n      <td>2020-04-13 23:07:34</td>\n      <td>-19.015438</td>\n      <td>29.154857</td>\n      <td>17</td>\n      <td>3</td>\n      <td>0</td>\n      <td>14</td>\n      <td>Zimbabwe</td>\n    </tr>\n  </tbody>\n</table>\n<p>3002 rows × 11 columns</p>\n</div>"
     },
     "execution_count": 4,
     "metadata": {},
     "output_type": "execute_result"
    }
   ],
   "source": [
    "# т.к. у нас файл csv, то используем встроенную функцию для чтения csv файлов\n",
    "data = pd.read_csv('04-13-2020.csv', index_col='Country_Region') # сразу назначим индекс название страны\n",
    "# посмотрим, какие данные хранит в себе наш датафрейм\n",
    "data.head() # выводит 5 первых значений\n",
    "data.sample(3) # выводит 3(аргумент количества в скобках) случайных значения, по-умолчанию 1\n",
    "data.tail() # выводит 5 последних значений\n",
    "data\n",
    "\n"
   ],
   "metadata": {
    "collapsed": false,
    "pycharm": {
     "name": "#%%\n"
    }
   }
  }
 ],
 "metadata": {
  "kernelspec": {
   "display_name": "Python 3",
   "language": "python",
   "name": "python3"
  },
  "language_info": {
   "codemirror_mode": {
    "name": "ipython",
    "version": 2
   },
   "file_extension": ".py",
   "mimetype": "text/x-python",
   "name": "python",
   "nbconvert_exporter": "python",
   "pygments_lexer": "ipython2",
   "version": "2.7.6"
  }
 },
 "nbformat": 4,
 "nbformat_minor": 0
}