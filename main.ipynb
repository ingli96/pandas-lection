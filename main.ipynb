{
 "cells": [
  {
   "cell_type": "code",
   "execution_count": 5,
   "outputs": [],
   "source": [
    "import pandas as pd\n",
    "# первым делом импортируем библиотеку, для краткости присвоим ей имя pd"
   ],
   "metadata": {
    "collapsed": false,
    "pycharm": {
     "name": "#%%\n"
    }
   }
  },
  {
   "cell_type": "code",
   "execution_count": 6,
   "outputs": [
    {
     "data": {
      "text/plain": "                       FIPS     Admin2  Province_State          Last_Update  \\\nCountry_Region                                                                \nUS                  45001.0  Abbeville  South Carolina  2020-04-13 23:07:54   \nUS                  22001.0     Acadia       Louisiana  2020-04-13 23:07:54   \nUS                  51001.0   Accomack        Virginia  2020-04-13 23:07:54   \nUS                  16001.0        Ada           Idaho  2020-04-13 23:07:54   \nUS                  19001.0      Adair            Iowa  2020-04-13 23:07:54   \n...                     ...        ...             ...                  ...   \nWest Bank and Gaza      NaN        NaN             NaN  2020-04-13 23:07:34   \nWestern Sahara          NaN        NaN             NaN  2020-04-13 23:07:34   \nYemen                   NaN        NaN             NaN  2020-04-13 23:07:34   \nZambia                  NaN        NaN             NaN  2020-04-13 23:07:34   \nZimbabwe                NaN        NaN             NaN  2020-04-13 23:07:34   \n\n                          Lat       Long_  Confirmed  Deaths  Recovered  \\\nCountry_Region                                                            \nUS                  34.223334  -82.461707          9       0          0   \nUS                  30.295065  -92.414197        101       5          0   \nUS                  37.767072  -75.632346         15       0          0   \nUS                  43.452658 -116.241552        517       6          0   \nUS                  41.330756  -94.471059          1       0          0   \n...                       ...         ...        ...     ...        ...   \nWest Bank and Gaza  31.952200   35.233200        308       2         58   \nWestern Sahara      24.215500  -12.885800          6       0          0   \nYemen               15.552727   48.516388          1       0          0   \nZambia             -13.133897   27.849332         45       2         30   \nZimbabwe           -19.015438   29.154857         17       3          0   \n\n                    Active                   Combined_Key  \nCountry_Region                                             \nUS                       9  Abbeville, South Carolina, US  \nUS                      96          Acadia, Louisiana, US  \nUS                      15         Accomack, Virginia, US  \nUS                     511                 Ada, Idaho, US  \nUS                       1                Adair, Iowa, US  \n...                    ...                            ...  \nWest Bank and Gaza     248             West Bank and Gaza  \nWestern Sahara           6                 Western Sahara  \nYemen                    1                          Yemen  \nZambia                  13                         Zambia  \nZimbabwe                14                       Zimbabwe  \n\n[3002 rows x 11 columns]",
      "text/html": "<div>\n<style scoped>\n    .dataframe tbody tr th:only-of-type {\n        vertical-align: middle;\n    }\n\n    .dataframe tbody tr th {\n        vertical-align: top;\n    }\n\n    .dataframe thead th {\n        text-align: right;\n    }\n</style>\n<table border=\"1\" class=\"dataframe\">\n  <thead>\n    <tr style=\"text-align: right;\">\n      <th></th>\n      <th>FIPS</th>\n      <th>Admin2</th>\n      <th>Province_State</th>\n      <th>Last_Update</th>\n      <th>Lat</th>\n      <th>Long_</th>\n      <th>Confirmed</th>\n      <th>Deaths</th>\n      <th>Recovered</th>\n      <th>Active</th>\n      <th>Combined_Key</th>\n    </tr>\n    <tr>\n      <th>Country_Region</th>\n      <th></th>\n      <th></th>\n      <th></th>\n      <th></th>\n      <th></th>\n      <th></th>\n      <th></th>\n      <th></th>\n      <th></th>\n      <th></th>\n      <th></th>\n    </tr>\n  </thead>\n  <tbody>\n    <tr>\n      <th>US</th>\n      <td>45001.0</td>\n      <td>Abbeville</td>\n      <td>South Carolina</td>\n      <td>2020-04-13 23:07:54</td>\n      <td>34.223334</td>\n      <td>-82.461707</td>\n      <td>9</td>\n      <td>0</td>\n      <td>0</td>\n      <td>9</td>\n      <td>Abbeville, South Carolina, US</td>\n    </tr>\n    <tr>\n      <th>US</th>\n      <td>22001.0</td>\n      <td>Acadia</td>\n      <td>Louisiana</td>\n      <td>2020-04-13 23:07:54</td>\n      <td>30.295065</td>\n      <td>-92.414197</td>\n      <td>101</td>\n      <td>5</td>\n      <td>0</td>\n      <td>96</td>\n      <td>Acadia, Louisiana, US</td>\n    </tr>\n    <tr>\n      <th>US</th>\n      <td>51001.0</td>\n      <td>Accomack</td>\n      <td>Virginia</td>\n      <td>2020-04-13 23:07:54</td>\n      <td>37.767072</td>\n      <td>-75.632346</td>\n      <td>15</td>\n      <td>0</td>\n      <td>0</td>\n      <td>15</td>\n      <td>Accomack, Virginia, US</td>\n    </tr>\n    <tr>\n      <th>US</th>\n      <td>16001.0</td>\n      <td>Ada</td>\n      <td>Idaho</td>\n      <td>2020-04-13 23:07:54</td>\n      <td>43.452658</td>\n      <td>-116.241552</td>\n      <td>517</td>\n      <td>6</td>\n      <td>0</td>\n      <td>511</td>\n      <td>Ada, Idaho, US</td>\n    </tr>\n    <tr>\n      <th>US</th>\n      <td>19001.0</td>\n      <td>Adair</td>\n      <td>Iowa</td>\n      <td>2020-04-13 23:07:54</td>\n      <td>41.330756</td>\n      <td>-94.471059</td>\n      <td>1</td>\n      <td>0</td>\n      <td>0</td>\n      <td>1</td>\n      <td>Adair, Iowa, US</td>\n    </tr>\n    <tr>\n      <th>...</th>\n      <td>...</td>\n      <td>...</td>\n      <td>...</td>\n      <td>...</td>\n      <td>...</td>\n      <td>...</td>\n      <td>...</td>\n      <td>...</td>\n      <td>...</td>\n      <td>...</td>\n      <td>...</td>\n    </tr>\n    <tr>\n      <th>West Bank and Gaza</th>\n      <td>NaN</td>\n      <td>NaN</td>\n      <td>NaN</td>\n      <td>2020-04-13 23:07:34</td>\n      <td>31.952200</td>\n      <td>35.233200</td>\n      <td>308</td>\n      <td>2</td>\n      <td>58</td>\n      <td>248</td>\n      <td>West Bank and Gaza</td>\n    </tr>\n    <tr>\n      <th>Western Sahara</th>\n      <td>NaN</td>\n      <td>NaN</td>\n      <td>NaN</td>\n      <td>2020-04-13 23:07:34</td>\n      <td>24.215500</td>\n      <td>-12.885800</td>\n      <td>6</td>\n      <td>0</td>\n      <td>0</td>\n      <td>6</td>\n      <td>Western Sahara</td>\n    </tr>\n    <tr>\n      <th>Yemen</th>\n      <td>NaN</td>\n      <td>NaN</td>\n      <td>NaN</td>\n      <td>2020-04-13 23:07:34</td>\n      <td>15.552727</td>\n      <td>48.516388</td>\n      <td>1</td>\n      <td>0</td>\n      <td>0</td>\n      <td>1</td>\n      <td>Yemen</td>\n    </tr>\n    <tr>\n      <th>Zambia</th>\n      <td>NaN</td>\n      <td>NaN</td>\n      <td>NaN</td>\n      <td>2020-04-13 23:07:34</td>\n      <td>-13.133897</td>\n      <td>27.849332</td>\n      <td>45</td>\n      <td>2</td>\n      <td>30</td>\n      <td>13</td>\n      <td>Zambia</td>\n    </tr>\n    <tr>\n      <th>Zimbabwe</th>\n      <td>NaN</td>\n      <td>NaN</td>\n      <td>NaN</td>\n      <td>2020-04-13 23:07:34</td>\n      <td>-19.015438</td>\n      <td>29.154857</td>\n      <td>17</td>\n      <td>3</td>\n      <td>0</td>\n      <td>14</td>\n      <td>Zimbabwe</td>\n    </tr>\n  </tbody>\n</table>\n<p>3002 rows × 11 columns</p>\n</div>"
     },
     "execution_count": 6,
     "metadata": {},
     "output_type": "execute_result"
    }
   ],
   "source": [
    "# т.к. у нас файл csv, то используем встроенную функцию для чтения csv файлов\n",
    "data = pd.read_csv('04-13-2020.csv', index_col='Country_Region') # сразу назначим индекс название страны\n",
    "# посмотрим, какие данные хранит в себе наш датафрейм\n",
    "data.head() # выводит 5 первых значений\n",
    "data.sample(3) # выводит 3(аргумент количества в скобках) случайных значения, по-умолчанию 1\n",
    "data.tail() # выводит 5 последних значений\n",
    "data\n"
   ],
   "metadata": {
    "collapsed": false,
    "pycharm": {
     "name": "#%%\n"
    }
   }
  },
  {
   "cell_type": "code",
   "execution_count": 7,
   "outputs": [
    {
     "data": {
      "text/plain": "(3002, 11)"
     },
     "execution_count": 7,
     "metadata": {},
     "output_type": "execute_result"
    }
   ],
   "source": [
    "# узнаем, сколько в нашем фрейме столбцов и строк\n",
    "data.shape"
   ],
   "metadata": {
    "collapsed": false,
    "pycharm": {
     "name": "#%%\n"
    }
   }
  },
  {
   "cell_type": "code",
   "execution_count": 8,
   "outputs": [
    {
     "data": {
      "text/plain": "Index(['FIPS', 'Admin2', 'Province_State', 'Last_Update', 'Lat', 'Long_',\n       'Confirmed', 'Deaths', 'Recovered', 'Active', 'Combined_Key'],\n      dtype='object')"
     },
     "execution_count": 8,
     "metadata": {},
     "output_type": "execute_result"
    }
   ],
   "source": [
    "# какие столбцы есть в нашем фрейме\n",
    "data.columns"
   ],
   "metadata": {
    "collapsed": false,
    "pycharm": {
     "name": "#%%\n"
    }
   }
  },
  {
   "cell_type": "code",
   "execution_count": 9,
   "outputs": [
    {
     "data": {
      "text/plain": "                    Confirmed  Deaths  Recovered  Active\nCountry_Region                                          \nUS                          9       0          0       9\nUS                        101       5          0      96\nUS                         15       0          0      15\nUS                        517       6          0     511\nUS                          1       0          0       1\n...                       ...     ...        ...     ...\nWest Bank and Gaza        308       2         58     248\nWestern Sahara              6       0          0       6\nYemen                       1       0          0       1\nZambia                     45       2         30      13\nZimbabwe                   17       3          0      14\n\n[3002 rows x 4 columns]",
      "text/html": "<div>\n<style scoped>\n    .dataframe tbody tr th:only-of-type {\n        vertical-align: middle;\n    }\n\n    .dataframe tbody tr th {\n        vertical-align: top;\n    }\n\n    .dataframe thead th {\n        text-align: right;\n    }\n</style>\n<table border=\"1\" class=\"dataframe\">\n  <thead>\n    <tr style=\"text-align: right;\">\n      <th></th>\n      <th>Confirmed</th>\n      <th>Deaths</th>\n      <th>Recovered</th>\n      <th>Active</th>\n    </tr>\n    <tr>\n      <th>Country_Region</th>\n      <th></th>\n      <th></th>\n      <th></th>\n      <th></th>\n    </tr>\n  </thead>\n  <tbody>\n    <tr>\n      <th>US</th>\n      <td>9</td>\n      <td>0</td>\n      <td>0</td>\n      <td>9</td>\n    </tr>\n    <tr>\n      <th>US</th>\n      <td>101</td>\n      <td>5</td>\n      <td>0</td>\n      <td>96</td>\n    </tr>\n    <tr>\n      <th>US</th>\n      <td>15</td>\n      <td>0</td>\n      <td>0</td>\n      <td>15</td>\n    </tr>\n    <tr>\n      <th>US</th>\n      <td>517</td>\n      <td>6</td>\n      <td>0</td>\n      <td>511</td>\n    </tr>\n    <tr>\n      <th>US</th>\n      <td>1</td>\n      <td>0</td>\n      <td>0</td>\n      <td>1</td>\n    </tr>\n    <tr>\n      <th>...</th>\n      <td>...</td>\n      <td>...</td>\n      <td>...</td>\n      <td>...</td>\n    </tr>\n    <tr>\n      <th>West Bank and Gaza</th>\n      <td>308</td>\n      <td>2</td>\n      <td>58</td>\n      <td>248</td>\n    </tr>\n    <tr>\n      <th>Western Sahara</th>\n      <td>6</td>\n      <td>0</td>\n      <td>0</td>\n      <td>6</td>\n    </tr>\n    <tr>\n      <th>Yemen</th>\n      <td>1</td>\n      <td>0</td>\n      <td>0</td>\n      <td>1</td>\n    </tr>\n    <tr>\n      <th>Zambia</th>\n      <td>45</td>\n      <td>2</td>\n      <td>30</td>\n      <td>13</td>\n    </tr>\n    <tr>\n      <th>Zimbabwe</th>\n      <td>17</td>\n      <td>3</td>\n      <td>0</td>\n      <td>14</td>\n    </tr>\n  </tbody>\n</table>\n<p>3002 rows × 4 columns</p>\n</div>"
     },
     "execution_count": 9,
     "metadata": {},
     "output_type": "execute_result"
    }
   ],
   "source": [
    "# сразу удалим ненужные, с которыми мы не планируем работать\n",
    "data = data.drop(['FIPS', 'Admin2', 'Last_Update', 'Province_State', 'Lat', 'Long_', 'Combined_Key'], axis=1)\n",
    "data"
   ],
   "metadata": {
    "collapsed": false,
    "pycharm": {
     "name": "#%%\n"
    }
   }
  },
  {
   "cell_type": "code",
   "execution_count": 10,
   "outputs": [
    {
     "data": {
      "text/plain": "                    Confirmed  Deaths  Recovered  Active\nCountry_Region                                          \nAfghanistan               665      21         32     612\nAlbania                   467      23        232     212\nAlgeria                  1983     313        601    1069\nAndorra                   646      29        128     489\nAngola                     19       2          4      13\n...                       ...     ...        ...     ...\nWest Bank and Gaza        308       2         58     248\nWestern Sahara              6       0          0       6\nYemen                       1       0          0       1\nZambia                     45       2         30      13\nZimbabwe                   17       3          0      14\n\n[185 rows x 4 columns]",
      "text/html": "<div>\n<style scoped>\n    .dataframe tbody tr th:only-of-type {\n        vertical-align: middle;\n    }\n\n    .dataframe tbody tr th {\n        vertical-align: top;\n    }\n\n    .dataframe thead th {\n        text-align: right;\n    }\n</style>\n<table border=\"1\" class=\"dataframe\">\n  <thead>\n    <tr style=\"text-align: right;\">\n      <th></th>\n      <th>Confirmed</th>\n      <th>Deaths</th>\n      <th>Recovered</th>\n      <th>Active</th>\n    </tr>\n    <tr>\n      <th>Country_Region</th>\n      <th></th>\n      <th></th>\n      <th></th>\n      <th></th>\n    </tr>\n  </thead>\n  <tbody>\n    <tr>\n      <th>Afghanistan</th>\n      <td>665</td>\n      <td>21</td>\n      <td>32</td>\n      <td>612</td>\n    </tr>\n    <tr>\n      <th>Albania</th>\n      <td>467</td>\n      <td>23</td>\n      <td>232</td>\n      <td>212</td>\n    </tr>\n    <tr>\n      <th>Algeria</th>\n      <td>1983</td>\n      <td>313</td>\n      <td>601</td>\n      <td>1069</td>\n    </tr>\n    <tr>\n      <th>Andorra</th>\n      <td>646</td>\n      <td>29</td>\n      <td>128</td>\n      <td>489</td>\n    </tr>\n    <tr>\n      <th>Angola</th>\n      <td>19</td>\n      <td>2</td>\n      <td>4</td>\n      <td>13</td>\n    </tr>\n    <tr>\n      <th>...</th>\n      <td>...</td>\n      <td>...</td>\n      <td>...</td>\n      <td>...</td>\n    </tr>\n    <tr>\n      <th>West Bank and Gaza</th>\n      <td>308</td>\n      <td>2</td>\n      <td>58</td>\n      <td>248</td>\n    </tr>\n    <tr>\n      <th>Western Sahara</th>\n      <td>6</td>\n      <td>0</td>\n      <td>0</td>\n      <td>6</td>\n    </tr>\n    <tr>\n      <th>Yemen</th>\n      <td>1</td>\n      <td>0</td>\n      <td>0</td>\n      <td>1</td>\n    </tr>\n    <tr>\n      <th>Zambia</th>\n      <td>45</td>\n      <td>2</td>\n      <td>30</td>\n      <td>13</td>\n    </tr>\n    <tr>\n      <th>Zimbabwe</th>\n      <td>17</td>\n      <td>3</td>\n      <td>0</td>\n      <td>14</td>\n    </tr>\n  </tbody>\n</table>\n<p>185 rows × 4 columns</p>\n</div>"
     },
     "execution_count": 10,
     "metadata": {},
     "output_type": "execute_result"
    }
   ],
   "source": [
    "# мне не интересно смотреть в каком именно городе в US заражены, поэтому создам новый фрейм, в котором сгруппирую по странам\n",
    "data_country = data.groupby('Country_Region').sum() # сейчас в эту строку не нужно вникать, позже всё само поймется\n",
    "data_country"
   ],
   "metadata": {
    "collapsed": false,
    "pycharm": {
     "name": "#%%\n"
    }
   }
  },
  {
   "cell_type": "code",
   "execution_count": 11,
   "outputs": [
    {
     "data": {
      "text/plain": "           Confirmed        Deaths     Recovered         Active\ncount     185.000000    185.000000    185.000000     185.000000\nmean    10363.891892    645.854054   2425.162162    7844.227027\nstd     48755.551580   2983.315967  10383.594788   47318.456792\nmin         1.000000      0.000000      0.000000       1.000000\n25%        45.000000      1.000000      5.000000      31.000000\n50%       467.000000      8.000000     62.000000     309.000000\n75%      2919.000000     78.000000    319.000000    2421.000000\nmax    580619.000000  23529.000000  78039.000000  615608.000000",
      "text/html": "<div>\n<style scoped>\n    .dataframe tbody tr th:only-of-type {\n        vertical-align: middle;\n    }\n\n    .dataframe tbody tr th {\n        vertical-align: top;\n    }\n\n    .dataframe thead th {\n        text-align: right;\n    }\n</style>\n<table border=\"1\" class=\"dataframe\">\n  <thead>\n    <tr style=\"text-align: right;\">\n      <th></th>\n      <th>Confirmed</th>\n      <th>Deaths</th>\n      <th>Recovered</th>\n      <th>Active</th>\n    </tr>\n  </thead>\n  <tbody>\n    <tr>\n      <th>count</th>\n      <td>185.000000</td>\n      <td>185.000000</td>\n      <td>185.000000</td>\n      <td>185.000000</td>\n    </tr>\n    <tr>\n      <th>mean</th>\n      <td>10363.891892</td>\n      <td>645.854054</td>\n      <td>2425.162162</td>\n      <td>7844.227027</td>\n    </tr>\n    <tr>\n      <th>std</th>\n      <td>48755.551580</td>\n      <td>2983.315967</td>\n      <td>10383.594788</td>\n      <td>47318.456792</td>\n    </tr>\n    <tr>\n      <th>min</th>\n      <td>1.000000</td>\n      <td>0.000000</td>\n      <td>0.000000</td>\n      <td>1.000000</td>\n    </tr>\n    <tr>\n      <th>25%</th>\n      <td>45.000000</td>\n      <td>1.000000</td>\n      <td>5.000000</td>\n      <td>31.000000</td>\n    </tr>\n    <tr>\n      <th>50%</th>\n      <td>467.000000</td>\n      <td>8.000000</td>\n      <td>62.000000</td>\n      <td>309.000000</td>\n    </tr>\n    <tr>\n      <th>75%</th>\n      <td>2919.000000</td>\n      <td>78.000000</td>\n      <td>319.000000</td>\n      <td>2421.000000</td>\n    </tr>\n    <tr>\n      <th>max</th>\n      <td>580619.000000</td>\n      <td>23529.000000</td>\n      <td>78039.000000</td>\n      <td>615608.000000</td>\n    </tr>\n  </tbody>\n</table>\n</div>"
     },
     "execution_count": 11,
     "metadata": {},
     "output_type": "execute_result"
    }
   ],
   "source": [
    "# Теперь можем приступить к исследованию наших данных\n",
    "data_country.describe() # покажет нам количество, среднее значение, отклонение, минимальное\\максимальное значение и процентиль.\n",
    "# Для общего понимания что такое процентиль посмотрим на пример ниже."
   ],
   "metadata": {
    "collapsed": false,
    "pycharm": {
     "name": "#%%\n"
    }
   }
  },
  {
   "cell_type": "code",
   "execution_count": 12,
   "outputs": [
    {
     "data": {
      "text/plain": "                 0\ncount    13.000000\nmean   1934.153846\nstd    2612.633883\nmin       1.000000\n25%       4.000000\n50%     164.000000\n75%    3734.000000\nmax    6666.000000",
      "text/html": "<div>\n<style scoped>\n    .dataframe tbody tr th:only-of-type {\n        vertical-align: middle;\n    }\n\n    .dataframe tbody tr th {\n        vertical-align: top;\n    }\n\n    .dataframe thead th {\n        text-align: right;\n    }\n</style>\n<table border=\"1\" class=\"dataframe\">\n  <thead>\n    <tr style=\"text-align: right;\">\n      <th></th>\n      <th>0</th>\n    </tr>\n  </thead>\n  <tbody>\n    <tr>\n      <th>count</th>\n      <td>13.000000</td>\n    </tr>\n    <tr>\n      <th>mean</th>\n      <td>1934.153846</td>\n    </tr>\n    <tr>\n      <th>std</th>\n      <td>2612.633883</td>\n    </tr>\n    <tr>\n      <th>min</th>\n      <td>1.000000</td>\n    </tr>\n    <tr>\n      <th>25%</th>\n      <td>4.000000</td>\n    </tr>\n    <tr>\n      <th>50%</th>\n      <td>164.000000</td>\n    </tr>\n    <tr>\n      <th>75%</th>\n      <td>3734.000000</td>\n    </tr>\n    <tr>\n      <th>max</th>\n      <td>6666.000000</td>\n    </tr>\n  </tbody>\n</table>\n</div>"
     },
     "execution_count": 12,
     "metadata": {},
     "output_type": "execute_result"
    }
   ],
   "source": [
    "a = [1,2,3,4,145,145,165,164,6666,6647,3734,3734,3734]\n",
    "data_a = pd.DataFrame(a)\n",
    "data_a.describe()\n",
    "\n",
    "# теперь всё стало понятно, это просто наш список в точках 25,50,75.\n"
   ],
   "metadata": {
    "collapsed": false,
    "pycharm": {
     "name": "#%%\n"
    }
   }
  },
  {
   "cell_type": "code",
   "execution_count": 13,
   "outputs": [
    {
     "data": {
      "text/plain": "Country_Region\nAfghanistan            21\nAlbania                23\nAlgeria               313\nAndorra                29\nAngola                  2\n                     ... \nWest Bank and Gaza      2\nWestern Sahara          0\nYemen                   0\nZambia                  2\nZimbabwe                3\nName: Deaths, Length: 185, dtype: int64"
     },
     "execution_count": 13,
     "metadata": {},
     "output_type": "execute_result"
    }
   ],
   "source": [
    "# Выводить датафрейм мы научились, заглянули внутрь, но не всегда мне понадобиться целый фрейм. Выберу только колонк со странами.\n",
    "data_country['Deaths'] # это обычный вид датафрейма, но я хочу посмотреть всё что в нем есть, полистать и насладиться видом"
   ],
   "metadata": {
    "collapsed": false,
    "pycharm": {
     "name": "#%%\n"
    }
   }
  },
  {
   "cell_type": "code",
   "execution_count": 14,
   "outputs": [
    {
     "data": {
      "text/plain": "         Country_Region  Deaths\n0           Afghanistan      21\n1               Albania      23\n2               Algeria     313\n3               Andorra      29\n4                Angola       2\n..                  ...     ...\n180  West Bank and Gaza       2\n181      Western Sahara       0\n182               Yemen       0\n183              Zambia       2\n184            Zimbabwe       3\n\n[185 rows x 2 columns]",
      "text/html": "<div>\n<style scoped>\n    .dataframe tbody tr th:only-of-type {\n        vertical-align: middle;\n    }\n\n    .dataframe tbody tr th {\n        vertical-align: top;\n    }\n\n    .dataframe thead th {\n        text-align: right;\n    }\n</style>\n<table border=\"1\" class=\"dataframe\">\n  <thead>\n    <tr style=\"text-align: right;\">\n      <th></th>\n      <th>Country_Region</th>\n      <th>Deaths</th>\n    </tr>\n  </thead>\n  <tbody>\n    <tr>\n      <th>0</th>\n      <td>Afghanistan</td>\n      <td>21</td>\n    </tr>\n    <tr>\n      <th>1</th>\n      <td>Albania</td>\n      <td>23</td>\n    </tr>\n    <tr>\n      <th>2</th>\n      <td>Algeria</td>\n      <td>313</td>\n    </tr>\n    <tr>\n      <th>3</th>\n      <td>Andorra</td>\n      <td>29</td>\n    </tr>\n    <tr>\n      <th>4</th>\n      <td>Angola</td>\n      <td>2</td>\n    </tr>\n    <tr>\n      <th>...</th>\n      <td>...</td>\n      <td>...</td>\n    </tr>\n    <tr>\n      <th>180</th>\n      <td>West Bank and Gaza</td>\n      <td>2</td>\n    </tr>\n    <tr>\n      <th>181</th>\n      <td>Western Sahara</td>\n      <td>0</td>\n    </tr>\n    <tr>\n      <th>182</th>\n      <td>Yemen</td>\n      <td>0</td>\n    </tr>\n    <tr>\n      <th>183</th>\n      <td>Zambia</td>\n      <td>2</td>\n    </tr>\n    <tr>\n      <th>184</th>\n      <td>Zimbabwe</td>\n      <td>3</td>\n    </tr>\n  </tbody>\n</table>\n<p>185 rows × 2 columns</p>\n</div>"
     },
     "execution_count": 14,
     "metadata": {},
     "output_type": "execute_result"
    }
   ],
   "source": [
    "data_country['Deaths'].reset_index()\n",
    "# просто сбросим индексы, в обычной консоле мы всё равно не получили бы такой вид, это фишка только для виртуальных ноутбуков.\n",
    "# иногда сброс индексов необходим, в случаях извлечения данных после анрегаций и тд.\n"
   ],
   "metadata": {
    "collapsed": false,
    "pycharm": {
     "name": "#%%\n"
    }
   }
  },
  {
   "cell_type": "code",
   "execution_count": 15,
   "outputs": [
    {
     "data": {
      "text/plain": "                    Deaths  Confirmed\nCountry_Region                       \nChile                   82       7525\nSeychelles               0         11\nCzechia                143       6059\nGhana                    8        566\nMorocco                126       1763\nAngola                   2         19\nWest Bank and Gaza       2        308",
      "text/html": "<div>\n<style scoped>\n    .dataframe tbody tr th:only-of-type {\n        vertical-align: middle;\n    }\n\n    .dataframe tbody tr th {\n        vertical-align: top;\n    }\n\n    .dataframe thead th {\n        text-align: right;\n    }\n</style>\n<table border=\"1\" class=\"dataframe\">\n  <thead>\n    <tr style=\"text-align: right;\">\n      <th></th>\n      <th>Deaths</th>\n      <th>Confirmed</th>\n    </tr>\n    <tr>\n      <th>Country_Region</th>\n      <th></th>\n      <th></th>\n    </tr>\n  </thead>\n  <tbody>\n    <tr>\n      <th>Chile</th>\n      <td>82</td>\n      <td>7525</td>\n    </tr>\n    <tr>\n      <th>Seychelles</th>\n      <td>0</td>\n      <td>11</td>\n    </tr>\n    <tr>\n      <th>Czechia</th>\n      <td>143</td>\n      <td>6059</td>\n    </tr>\n    <tr>\n      <th>Ghana</th>\n      <td>8</td>\n      <td>566</td>\n    </tr>\n    <tr>\n      <th>Morocco</th>\n      <td>126</td>\n      <td>1763</td>\n    </tr>\n    <tr>\n      <th>Angola</th>\n      <td>2</td>\n      <td>19</td>\n    </tr>\n    <tr>\n      <th>West Bank and Gaza</th>\n      <td>2</td>\n      <td>308</td>\n    </tr>\n  </tbody>\n</table>\n</div>"
     },
     "execution_count": 15,
     "metadata": {},
     "output_type": "execute_result"
    }
   ],
   "source": [
    "# что если я хочу посмотреть 2 колонки? в квадратных скобках нам нужно указать список столбцов: ['col1', 'col2']\n",
    "data_country[['Deaths', 'Confirmed']].sample(7) # как мы уже умеем, выведем случайных 7 значений."
   ],
   "metadata": {
    "collapsed": false,
    "pycharm": {
     "name": "#%%\n"
    }
   }
  },
  {
   "cell_type": "code",
   "execution_count": 16,
   "outputs": [
    {
     "data": {
      "text/plain": "Confirmed    3102\nDeaths         93\nRecovered      97\nActive       2912\nName: Ukraine, dtype: int64"
     },
     "execution_count": 16,
     "metadata": {},
     "output_type": "execute_result"
    }
   ],
   "source": [
    "# кстати, мы можем выводить не только колонки, но и строки.\n",
    "data_country.loc['Ukraine'] # с помощью loc мы пишем имя индекса(в нашем случае название страны)\n"
   ],
   "metadata": {
    "collapsed": false,
    "pycharm": {
     "name": "#%%\n"
    }
   }
  },
  {
   "cell_type": "code",
   "execution_count": 17,
   "outputs": [
    {
     "data": {
      "text/plain": "                     Confirmed  Deaths  Recovered  Active\nCountry_Region                                           \nAfghanistan                665      21         32     612\nAlbania                    467      23        232     212\nAlgeria                   1983     313        601    1069\nAndorra                    646      29        128     489\nAngola                      19       2          4      13\nAntigua and Barbuda         23       2          0      21\nArgentina                 2208      97        515    1596\nArmenia                   1039      14        211     814\nAustralia                 6351      61       1806    4484\nAustria                  14041     368       7343    6330",
      "text/html": "<div>\n<style scoped>\n    .dataframe tbody tr th:only-of-type {\n        vertical-align: middle;\n    }\n\n    .dataframe tbody tr th {\n        vertical-align: top;\n    }\n\n    .dataframe thead th {\n        text-align: right;\n    }\n</style>\n<table border=\"1\" class=\"dataframe\">\n  <thead>\n    <tr style=\"text-align: right;\">\n      <th></th>\n      <th>Confirmed</th>\n      <th>Deaths</th>\n      <th>Recovered</th>\n      <th>Active</th>\n    </tr>\n    <tr>\n      <th>Country_Region</th>\n      <th></th>\n      <th></th>\n      <th></th>\n      <th></th>\n    </tr>\n  </thead>\n  <tbody>\n    <tr>\n      <th>Afghanistan</th>\n      <td>665</td>\n      <td>21</td>\n      <td>32</td>\n      <td>612</td>\n    </tr>\n    <tr>\n      <th>Albania</th>\n      <td>467</td>\n      <td>23</td>\n      <td>232</td>\n      <td>212</td>\n    </tr>\n    <tr>\n      <th>Algeria</th>\n      <td>1983</td>\n      <td>313</td>\n      <td>601</td>\n      <td>1069</td>\n    </tr>\n    <tr>\n      <th>Andorra</th>\n      <td>646</td>\n      <td>29</td>\n      <td>128</td>\n      <td>489</td>\n    </tr>\n    <tr>\n      <th>Angola</th>\n      <td>19</td>\n      <td>2</td>\n      <td>4</td>\n      <td>13</td>\n    </tr>\n    <tr>\n      <th>Antigua and Barbuda</th>\n      <td>23</td>\n      <td>2</td>\n      <td>0</td>\n      <td>21</td>\n    </tr>\n    <tr>\n      <th>Argentina</th>\n      <td>2208</td>\n      <td>97</td>\n      <td>515</td>\n      <td>1596</td>\n    </tr>\n    <tr>\n      <th>Armenia</th>\n      <td>1039</td>\n      <td>14</td>\n      <td>211</td>\n      <td>814</td>\n    </tr>\n    <tr>\n      <th>Australia</th>\n      <td>6351</td>\n      <td>61</td>\n      <td>1806</td>\n      <td>4484</td>\n    </tr>\n    <tr>\n      <th>Austria</th>\n      <td>14041</td>\n      <td>368</td>\n      <td>7343</td>\n      <td>6330</td>\n    </tr>\n  </tbody>\n</table>\n</div>"
     },
     "execution_count": 17,
     "metadata": {},
     "output_type": "execute_result"
    }
   ],
   "source": [
    "# так же я могу вывести просто по счету 1-10 страны\n",
    "data_country.iloc[range(0,10)] # 1,2,3,4,5... т.е. с помощью iloc мы пишем не имя, а порядковый номер"
   ],
   "metadata": {
    "collapsed": false,
    "pycharm": {
     "name": "#%%\n"
    }
   }
  },
  {
   "cell_type": "code",
   "execution_count": 18,
   "outputs": [
    {
     "data": {
      "text/plain": "3102"
     },
     "execution_count": 18,
     "metadata": {},
     "output_type": "execute_result"
    }
   ],
   "source": [
    "data_country.loc['Ukraine', 'Confirmed'] # кстати, мы же можем обратиться и по колонке, и по строке\n",
    "# data_country.loc[['Ukraine', 'Russia']]  # для вывода 2 стран, не забываем про вложенный список\n",
    "# data_country.loc['Ukraine', 'Russia'] # вот что будет если забудем про список, Russia ищется как название столбца\n",
    "# data_country.loc[['Ukraine', 'Russia'], 'Confirmed'] # не совсем удобная запись оказыввается, можно и запутаться\n",
    "# data_country.loc['Ukraine']['Confirmed'] # если мы отделим это в разные списки, так становится куда проще\n",
    "# data_country.loc[['Ukraine', 'Russia']]['Confirmed']\n"
   ],
   "metadata": {
    "collapsed": false,
    "pycharm": {
     "name": "#%%\n"
    }
   }
  },
  {
   "cell_type": "code",
   "execution_count": 19,
   "outputs": [
    {
     "data": {
      "text/plain": "                      Confirmed  Deaths  Recovered  Active\nCountry_Region                                            \nAustralia                  6351      61       1806    4484\nAustria                   14041     368       7343    6330\nBelgium                   30589    3903       6707   19979\nBrazil                    23430    1328        173   21929\nCanada                    25680     780       7758   17142\nChile                      7525      82       2367    5076\nChina                     83213    3345      78039    1829\nCzechia                    6059     143        519    5397\nDenmark                    6513     285       2403    3825\nDominican Republic         3167     177        152    2838\nEcuador                    7529     355        597    6577\nFinland                    3064      59        300    2705\nFrance                   137875   14986      28001   94888\nGermany                  130072    3194      64300   62578\nIndia                     10453     358       1181    8914\nIndonesia                  4557     399        380    3778\nIran                      73303    4585      45983   22735\nIreland                   10647     365         25   10257\nIsrael                    11586     116       1855    9615\nItaly                    159516   20465      35435  103616\nJapan                      7370     123        784    6463\nKorea, South              10537     217       7447    2873\nLuxembourg                 3292      69        500    2723\nMalaysia                   4817      77       2276    2464\nMexico                     4661     296       1843    2522\nNetherlands               26710    2833        295   23582\nNorway                     6603     134         32    6437\nPakistan                   5496      93       1095    4308\nPanama                     3400      87         29    3284\nPeru                       9784     216       2642    6926\nPhilippines                4932     315        242    4375\nPoland                     6934     245        487    6202\nPortugal                  16934     535        277   16122\nQatar                      3231       7        334    2890\nRomania                    6633     331        914    5388\nRussia                    18328     148       1470   16710\nSaudi Arabia               4934      65        805    4064\nSerbia                     4054      85          0    3969\nSpain                    170099   17756      64727   87616\nSweden                    10948     919        381    9648\nSwitzerland               25688    1138      13700   10850\nTurkey                    61049    1296       3957   55796\nUS                       580619   23529      43482  615608\nUkraine                    3102      93         97    2912\nUnited Arab Emirates       4521      25        852    3644\nUnited Kingdom            89570   11347        304   77919",
      "text/html": "<div>\n<style scoped>\n    .dataframe tbody tr th:only-of-type {\n        vertical-align: middle;\n    }\n\n    .dataframe tbody tr th {\n        vertical-align: top;\n    }\n\n    .dataframe thead th {\n        text-align: right;\n    }\n</style>\n<table border=\"1\" class=\"dataframe\">\n  <thead>\n    <tr style=\"text-align: right;\">\n      <th></th>\n      <th>Confirmed</th>\n      <th>Deaths</th>\n      <th>Recovered</th>\n      <th>Active</th>\n    </tr>\n    <tr>\n      <th>Country_Region</th>\n      <th></th>\n      <th></th>\n      <th></th>\n      <th></th>\n    </tr>\n  </thead>\n  <tbody>\n    <tr>\n      <th>Australia</th>\n      <td>6351</td>\n      <td>61</td>\n      <td>1806</td>\n      <td>4484</td>\n    </tr>\n    <tr>\n      <th>Austria</th>\n      <td>14041</td>\n      <td>368</td>\n      <td>7343</td>\n      <td>6330</td>\n    </tr>\n    <tr>\n      <th>Belgium</th>\n      <td>30589</td>\n      <td>3903</td>\n      <td>6707</td>\n      <td>19979</td>\n    </tr>\n    <tr>\n      <th>Brazil</th>\n      <td>23430</td>\n      <td>1328</td>\n      <td>173</td>\n      <td>21929</td>\n    </tr>\n    <tr>\n      <th>Canada</th>\n      <td>25680</td>\n      <td>780</td>\n      <td>7758</td>\n      <td>17142</td>\n    </tr>\n    <tr>\n      <th>Chile</th>\n      <td>7525</td>\n      <td>82</td>\n      <td>2367</td>\n      <td>5076</td>\n    </tr>\n    <tr>\n      <th>China</th>\n      <td>83213</td>\n      <td>3345</td>\n      <td>78039</td>\n      <td>1829</td>\n    </tr>\n    <tr>\n      <th>Czechia</th>\n      <td>6059</td>\n      <td>143</td>\n      <td>519</td>\n      <td>5397</td>\n    </tr>\n    <tr>\n      <th>Denmark</th>\n      <td>6513</td>\n      <td>285</td>\n      <td>2403</td>\n      <td>3825</td>\n    </tr>\n    <tr>\n      <th>Dominican Republic</th>\n      <td>3167</td>\n      <td>177</td>\n      <td>152</td>\n      <td>2838</td>\n    </tr>\n    <tr>\n      <th>Ecuador</th>\n      <td>7529</td>\n      <td>355</td>\n      <td>597</td>\n      <td>6577</td>\n    </tr>\n    <tr>\n      <th>Finland</th>\n      <td>3064</td>\n      <td>59</td>\n      <td>300</td>\n      <td>2705</td>\n    </tr>\n    <tr>\n      <th>France</th>\n      <td>137875</td>\n      <td>14986</td>\n      <td>28001</td>\n      <td>94888</td>\n    </tr>\n    <tr>\n      <th>Germany</th>\n      <td>130072</td>\n      <td>3194</td>\n      <td>64300</td>\n      <td>62578</td>\n    </tr>\n    <tr>\n      <th>India</th>\n      <td>10453</td>\n      <td>358</td>\n      <td>1181</td>\n      <td>8914</td>\n    </tr>\n    <tr>\n      <th>Indonesia</th>\n      <td>4557</td>\n      <td>399</td>\n      <td>380</td>\n      <td>3778</td>\n    </tr>\n    <tr>\n      <th>Iran</th>\n      <td>73303</td>\n      <td>4585</td>\n      <td>45983</td>\n      <td>22735</td>\n    </tr>\n    <tr>\n      <th>Ireland</th>\n      <td>10647</td>\n      <td>365</td>\n      <td>25</td>\n      <td>10257</td>\n    </tr>\n    <tr>\n      <th>Israel</th>\n      <td>11586</td>\n      <td>116</td>\n      <td>1855</td>\n      <td>9615</td>\n    </tr>\n    <tr>\n      <th>Italy</th>\n      <td>159516</td>\n      <td>20465</td>\n      <td>35435</td>\n      <td>103616</td>\n    </tr>\n    <tr>\n      <th>Japan</th>\n      <td>7370</td>\n      <td>123</td>\n      <td>784</td>\n      <td>6463</td>\n    </tr>\n    <tr>\n      <th>Korea, South</th>\n      <td>10537</td>\n      <td>217</td>\n      <td>7447</td>\n      <td>2873</td>\n    </tr>\n    <tr>\n      <th>Luxembourg</th>\n      <td>3292</td>\n      <td>69</td>\n      <td>500</td>\n      <td>2723</td>\n    </tr>\n    <tr>\n      <th>Malaysia</th>\n      <td>4817</td>\n      <td>77</td>\n      <td>2276</td>\n      <td>2464</td>\n    </tr>\n    <tr>\n      <th>Mexico</th>\n      <td>4661</td>\n      <td>296</td>\n      <td>1843</td>\n      <td>2522</td>\n    </tr>\n    <tr>\n      <th>Netherlands</th>\n      <td>26710</td>\n      <td>2833</td>\n      <td>295</td>\n      <td>23582</td>\n    </tr>\n    <tr>\n      <th>Norway</th>\n      <td>6603</td>\n      <td>134</td>\n      <td>32</td>\n      <td>6437</td>\n    </tr>\n    <tr>\n      <th>Pakistan</th>\n      <td>5496</td>\n      <td>93</td>\n      <td>1095</td>\n      <td>4308</td>\n    </tr>\n    <tr>\n      <th>Panama</th>\n      <td>3400</td>\n      <td>87</td>\n      <td>29</td>\n      <td>3284</td>\n    </tr>\n    <tr>\n      <th>Peru</th>\n      <td>9784</td>\n      <td>216</td>\n      <td>2642</td>\n      <td>6926</td>\n    </tr>\n    <tr>\n      <th>Philippines</th>\n      <td>4932</td>\n      <td>315</td>\n      <td>242</td>\n      <td>4375</td>\n    </tr>\n    <tr>\n      <th>Poland</th>\n      <td>6934</td>\n      <td>245</td>\n      <td>487</td>\n      <td>6202</td>\n    </tr>\n    <tr>\n      <th>Portugal</th>\n      <td>16934</td>\n      <td>535</td>\n      <td>277</td>\n      <td>16122</td>\n    </tr>\n    <tr>\n      <th>Qatar</th>\n      <td>3231</td>\n      <td>7</td>\n      <td>334</td>\n      <td>2890</td>\n    </tr>\n    <tr>\n      <th>Romania</th>\n      <td>6633</td>\n      <td>331</td>\n      <td>914</td>\n      <td>5388</td>\n    </tr>\n    <tr>\n      <th>Russia</th>\n      <td>18328</td>\n      <td>148</td>\n      <td>1470</td>\n      <td>16710</td>\n    </tr>\n    <tr>\n      <th>Saudi Arabia</th>\n      <td>4934</td>\n      <td>65</td>\n      <td>805</td>\n      <td>4064</td>\n    </tr>\n    <tr>\n      <th>Serbia</th>\n      <td>4054</td>\n      <td>85</td>\n      <td>0</td>\n      <td>3969</td>\n    </tr>\n    <tr>\n      <th>Spain</th>\n      <td>170099</td>\n      <td>17756</td>\n      <td>64727</td>\n      <td>87616</td>\n    </tr>\n    <tr>\n      <th>Sweden</th>\n      <td>10948</td>\n      <td>919</td>\n      <td>381</td>\n      <td>9648</td>\n    </tr>\n    <tr>\n      <th>Switzerland</th>\n      <td>25688</td>\n      <td>1138</td>\n      <td>13700</td>\n      <td>10850</td>\n    </tr>\n    <tr>\n      <th>Turkey</th>\n      <td>61049</td>\n      <td>1296</td>\n      <td>3957</td>\n      <td>55796</td>\n    </tr>\n    <tr>\n      <th>US</th>\n      <td>580619</td>\n      <td>23529</td>\n      <td>43482</td>\n      <td>615608</td>\n    </tr>\n    <tr>\n      <th>Ukraine</th>\n      <td>3102</td>\n      <td>93</td>\n      <td>97</td>\n      <td>2912</td>\n    </tr>\n    <tr>\n      <th>United Arab Emirates</th>\n      <td>4521</td>\n      <td>25</td>\n      <td>852</td>\n      <td>3644</td>\n    </tr>\n    <tr>\n      <th>United Kingdom</th>\n      <td>89570</td>\n      <td>11347</td>\n      <td>304</td>\n      <td>77919</td>\n    </tr>\n  </tbody>\n</table>\n</div>"
     },
     "execution_count": 19,
     "metadata": {},
     "output_type": "execute_result"
    }
   ],
   "source": [
    "# перейдем к условиям. Я конечно помню, что в Украине больше 3х тысяч зараженных, но как узнать в каких странах так же больше 3ти тысяч\n",
    "filter_count = data_country['Confirmed'] > 3000\n",
    "# в данном случае нам возвращается серия значений True\\False, который мы можем использовать как условие.\n",
    "# будет ли выводиться данное значение с фрейма(Да\\Нет)\n",
    "data_country[filter_count]"
   ],
   "metadata": {
    "collapsed": false,
    "pycharm": {
     "name": "#%%\n"
    }
   }
  },
  {
   "cell_type": "code",
   "execution_count": 20,
   "outputs": [
    {
     "data": {
      "text/plain": "                    Confirmed  Deaths  Recovered  Active\nCountry_Region                                          \nBrazil                  23430    1328        173   21929\nDominican Republic       3167     177        152    2838\nIndonesia                4557     399        380    3778\nIreland                 10647     365         25   10257\nNetherlands             26710    2833        295   23582\nNorway                   6603     134         32    6437\nPanama                   3400      87         29    3284\nPhilippines              4932     315        242    4375\nPortugal                16934     535        277   16122\nSerbia                   4054      85          0    3969\nSweden                  10948     919        381    9648\nUnited Kingdom          89570   11347        304   77919",
      "text/html": "<div>\n<style scoped>\n    .dataframe tbody tr th:only-of-type {\n        vertical-align: middle;\n    }\n\n    .dataframe tbody tr th {\n        vertical-align: top;\n    }\n\n    .dataframe thead th {\n        text-align: right;\n    }\n</style>\n<table border=\"1\" class=\"dataframe\">\n  <thead>\n    <tr style=\"text-align: right;\">\n      <th></th>\n      <th>Confirmed</th>\n      <th>Deaths</th>\n      <th>Recovered</th>\n      <th>Active</th>\n    </tr>\n    <tr>\n      <th>Country_Region</th>\n      <th></th>\n      <th></th>\n      <th></th>\n      <th></th>\n    </tr>\n  </thead>\n  <tbody>\n    <tr>\n      <th>Brazil</th>\n      <td>23430</td>\n      <td>1328</td>\n      <td>173</td>\n      <td>21929</td>\n    </tr>\n    <tr>\n      <th>Dominican Republic</th>\n      <td>3167</td>\n      <td>177</td>\n      <td>152</td>\n      <td>2838</td>\n    </tr>\n    <tr>\n      <th>Indonesia</th>\n      <td>4557</td>\n      <td>399</td>\n      <td>380</td>\n      <td>3778</td>\n    </tr>\n    <tr>\n      <th>Ireland</th>\n      <td>10647</td>\n      <td>365</td>\n      <td>25</td>\n      <td>10257</td>\n    </tr>\n    <tr>\n      <th>Netherlands</th>\n      <td>26710</td>\n      <td>2833</td>\n      <td>295</td>\n      <td>23582</td>\n    </tr>\n    <tr>\n      <th>Norway</th>\n      <td>6603</td>\n      <td>134</td>\n      <td>32</td>\n      <td>6437</td>\n    </tr>\n    <tr>\n      <th>Panama</th>\n      <td>3400</td>\n      <td>87</td>\n      <td>29</td>\n      <td>3284</td>\n    </tr>\n    <tr>\n      <th>Philippines</th>\n      <td>4932</td>\n      <td>315</td>\n      <td>242</td>\n      <td>4375</td>\n    </tr>\n    <tr>\n      <th>Portugal</th>\n      <td>16934</td>\n      <td>535</td>\n      <td>277</td>\n      <td>16122</td>\n    </tr>\n    <tr>\n      <th>Serbia</th>\n      <td>4054</td>\n      <td>85</td>\n      <td>0</td>\n      <td>3969</td>\n    </tr>\n    <tr>\n      <th>Sweden</th>\n      <td>10948</td>\n      <td>919</td>\n      <td>381</td>\n      <td>9648</td>\n    </tr>\n    <tr>\n      <th>United Kingdom</th>\n      <td>89570</td>\n      <td>11347</td>\n      <td>304</td>\n      <td>77919</td>\n    </tr>\n  </tbody>\n</table>\n</div>"
     },
     "execution_count": 20,
     "metadata": {},
     "output_type": "execute_result"
    }
   ],
   "source": [
    "# теперь хочу узнать в каких из этих стран число умерших больше числа выживших\n",
    "filter_death = data_country['Deaths'] > data_country['Recovered']\n",
    "data_country[filter_count & filter_death] # всё просто, с помощью логического оператора &"
   ],
   "metadata": {
    "collapsed": false,
    "pycharm": {
     "name": "#%%\n"
    }
   }
  },
  {
   "cell_type": "code",
   "execution_count": 21,
   "outputs": [
    {
     "data": {
      "text/plain": "185"
     },
     "execution_count": 21,
     "metadata": {},
     "output_type": "execute_result"
    }
   ],
   "source": [
    "# ну ладно, название стран я увидел, их действительно много, сейчас посчитаем\n",
    "data_country['Confirmed'].count() # стоит сказать что мы могли применить просто shape[0] или len(df.index), но изучаем агрегирование\n"
   ],
   "metadata": {
    "collapsed": false,
    "pycharm": {
     "name": "#%%\n"
    }
   }
  },
  {
   "cell_type": "code",
   "execution_count": 22,
   "outputs": [
    {
     "data": {
      "text/plain": "Deaths       119483\nRecovered    448655\ndtype: int64"
     },
     "execution_count": 22,
     "metadata": {},
     "output_type": "execute_result"
    }
   ],
   "source": [
    "# А сколько в мире черовек умерло и выздоровило?\n",
    "data_country[['Deaths', 'Recovered']].sum()"
   ],
   "metadata": {
    "collapsed": false,
    "pycharm": {
     "name": "#%%\n"
    }
   }
  },
  {
   "cell_type": "code",
   "execution_count": 23,
   "outputs": [
    {
     "data": {
      "text/plain": "Deaths       18524.000000\nRecovered     2290.000000\nActive       15344.833333\ndtype: float64"
     },
     "execution_count": 23,
     "metadata": {},
     "output_type": "execute_result"
    }
   ],
   "source": [
    "# применим напиш знания условий и агрегирования для решения чего-то более адекватного\n",
    "# Найдем всё те же страны где умерших больше. Посмотрим на сумму умерших и выздоровивших и на среднее цисло зараженных в данный момент\n",
    "filter_death = data_country['Deaths'] > data_country['Recovered']\n",
    "data_filtered = data_country[filter_count & filter_death]\n",
    "data_filtered.agg({'Deaths': 'sum', 'Recovered': 'sum', 'Active': 'mean'})\n"
   ],
   "metadata": {
    "collapsed": false,
    "pycharm": {
     "name": "#%%\n"
    }
   }
  },
  {
   "cell_type": "code",
   "execution_count": 24,
   "outputs": [
    {
     "name": "stdout",
     "output_type": "stream",
     "text": [
      "182402.75045642356 22549.24954357644\n",
      "1518.3473684210526 1583.6526315789474\n"
     ]
    }
   ],
   "source": [
    "# Отступление не в тему вынести в отдельный файл\n",
    "prog = data_country.loc[['Brazil', 'Dominican Republic', 'Indonesia', 'Ireland', 'Netherlands','Norway', 'Panama', 'Philippines', 'Portugal', 'Serbia', 'Sweden','United Kingdom']]\n",
    "prog_sum = prog.sum()\n",
    "prog_was = prog_sum[1]+prog_sum[2]\n",
    "\n",
    "will_recovered = prog_sum[2]*prog_sum[0]/prog_was\n",
    "will_death = prog_sum[1]*prog_sum[0]/prog_was\n",
    "print(will_death, will_recovered)\n",
    "\n",
    "\n",
    "ua = data_country.loc['Ukraine']\n",
    "ua_was = ua[1]+ua[2]\n",
    "ua_r = ua[2].sum()*ua[0].sum()/ua_was\n",
    "ua_d = ua[1].sum()*ua[0].sum()/ua_was\n",
    "print(ua_d, ua_r)"
   ],
   "metadata": {
    "collapsed": false,
    "pycharm": {
     "name": "#%%\n"
    }
   }
  },
  {
   "cell_type": "code",
   "execution_count": 25,
   "outputs": [
    {
     "data": {
      "text/plain": "                    Confirmed  Deaths  Recovered  Active\nCountry_Region                                          \nUnited Kingdom          89570   11347        304   77919\nNetherlands             26710    2833        295   23582\nBrazil                  23430    1328        173   21929\nPortugal                16934     535        277   16122\nSweden                  10948     919        381    9648\nIreland                 10647     365         25   10257\nNorway                   6603     134         32    6437\nPhilippines              4932     315        242    4375\nIndonesia                4557     399        380    3778\nSerbia                   4054      85          0    3969\nPanama                   3400      87         29    3284\nDominican Republic       3167     177        152    2838",
      "text/html": "<div>\n<style scoped>\n    .dataframe tbody tr th:only-of-type {\n        vertical-align: middle;\n    }\n\n    .dataframe tbody tr th {\n        vertical-align: top;\n    }\n\n    .dataframe thead th {\n        text-align: right;\n    }\n</style>\n<table border=\"1\" class=\"dataframe\">\n  <thead>\n    <tr style=\"text-align: right;\">\n      <th></th>\n      <th>Confirmed</th>\n      <th>Deaths</th>\n      <th>Recovered</th>\n      <th>Active</th>\n    </tr>\n    <tr>\n      <th>Country_Region</th>\n      <th></th>\n      <th></th>\n      <th></th>\n      <th></th>\n    </tr>\n  </thead>\n  <tbody>\n    <tr>\n      <th>United Kingdom</th>\n      <td>89570</td>\n      <td>11347</td>\n      <td>304</td>\n      <td>77919</td>\n    </tr>\n    <tr>\n      <th>Netherlands</th>\n      <td>26710</td>\n      <td>2833</td>\n      <td>295</td>\n      <td>23582</td>\n    </tr>\n    <tr>\n      <th>Brazil</th>\n      <td>23430</td>\n      <td>1328</td>\n      <td>173</td>\n      <td>21929</td>\n    </tr>\n    <tr>\n      <th>Portugal</th>\n      <td>16934</td>\n      <td>535</td>\n      <td>277</td>\n      <td>16122</td>\n    </tr>\n    <tr>\n      <th>Sweden</th>\n      <td>10948</td>\n      <td>919</td>\n      <td>381</td>\n      <td>9648</td>\n    </tr>\n    <tr>\n      <th>Ireland</th>\n      <td>10647</td>\n      <td>365</td>\n      <td>25</td>\n      <td>10257</td>\n    </tr>\n    <tr>\n      <th>Norway</th>\n      <td>6603</td>\n      <td>134</td>\n      <td>32</td>\n      <td>6437</td>\n    </tr>\n    <tr>\n      <th>Philippines</th>\n      <td>4932</td>\n      <td>315</td>\n      <td>242</td>\n      <td>4375</td>\n    </tr>\n    <tr>\n      <th>Indonesia</th>\n      <td>4557</td>\n      <td>399</td>\n      <td>380</td>\n      <td>3778</td>\n    </tr>\n    <tr>\n      <th>Serbia</th>\n      <td>4054</td>\n      <td>85</td>\n      <td>0</td>\n      <td>3969</td>\n    </tr>\n    <tr>\n      <th>Panama</th>\n      <td>3400</td>\n      <td>87</td>\n      <td>29</td>\n      <td>3284</td>\n    </tr>\n    <tr>\n      <th>Dominican Republic</th>\n      <td>3167</td>\n      <td>177</td>\n      <td>152</td>\n      <td>2838</td>\n    </tr>\n  </tbody>\n</table>\n</div>"
     },
     "execution_count": 25,
     "metadata": {},
     "output_type": "execute_result"
    }
   ],
   "source": [
    "# Возьмем наши страны и отсортируем по количесту подтвержденных случаев от большего к меньшему\n",
    "data_filtered.sort_values(by='Confirmed', ascending=False) # по индексам кстати можно так же сортировать, sort_index\n"
   ],
   "metadata": {
    "collapsed": false,
    "pycharm": {
     "name": "#%%\n"
    }
   }
  },
  {
   "cell_type": "code",
   "execution_count": 26,
   "outputs": [
    {
     "data": {
      "text/plain": "(22, 34)"
     },
     "execution_count": 26,
     "metadata": {},
     "output_type": "execute_result"
    }
   ],
   "source": [
    "# Давайте попробуем посчитать количество стран, где нет выздоровивших и отдельно где нет умерших\n",
    "filter_norecovered = data_country['Recovered'] == 0\n",
    "filter_nodeath = data_country['Deaths'] == 0\n",
    "data_country[filter_norecovered]['Recovered'].count(), data_country[filter_nodeath]['Deaths'].count()"
   ],
   "metadata": {
    "collapsed": false,
    "pycharm": {
     "name": "#%%\n"
    }
   }
  },
  {
   "cell_type": "code",
   "execution_count": 27,
   "outputs": [
    {
     "data": {
      "text/plain": "(34, 22)"
     },
     "execution_count": 27,
     "metadata": {},
     "output_type": "execute_result"
    }
   ],
   "source": [
    "# пришло время мощнейшего инструмента, df.query. Решим задачу выше с помощью query (и удивимся простоте кода)\n",
    "data_country.query('Deaths == 0')['Deaths'].count(), data_country.query('Recovered == 0')['Recovered'].count()\n",
    "# данные вывер не в том порядке, но сама суть query в том, что мы не строим ужасные фильтры, а пишем кратко и красиво"
   ],
   "metadata": {
    "collapsed": false,
    "pycharm": {
     "name": "#%%\n"
    }
   }
  },
  {
   "cell_type": "code",
   "execution_count": 28,
   "outputs": [
    {
     "data": {
      "text/plain": "Country_Region\nUS    23529\nName: Deaths, dtype: int64"
     },
     "execution_count": 28,
     "metadata": {},
     "output_type": "execute_result"
    }
   ],
   "source": [
    "# немного попроактикуемся снова\n",
    "# найдем страну, в которой максимальное количество зараженных и выведем сколько людей умерло\n",
    "max_conf = data_country['Confirmed'].max()\n",
    "data_country.query('Confirmed == @max_conf')['Deaths']\n",
    "\n"
   ],
   "metadata": {
    "collapsed": false,
    "pycharm": {
     "name": "#%%\n"
    }
   }
  },
  {
   "cell_type": "code",
   "execution_count": 29,
   "outputs": [
    {
     "name": "stdout",
     "output_type": "stream",
     "text": [
      "Index(['Austria', 'Belgium', 'Brazil', 'Canada', 'Chile', 'Czechia', 'Ecuador',\n",
      "       'France', 'Germany', 'India', 'Iran', 'Ireland', 'Israel', 'Italy',\n",
      "       'Japan', 'Netherlands', 'Norway', 'Peru', 'Poland', 'Portugal',\n",
      "       'Romania', 'Russia', 'Spain', 'Sweden', 'Switzerland', 'Turkey', 'US',\n",
      "       'United Kingdom'],\n",
      "      dtype='object', name='Country_Region')\n",
      "28\n"
     ]
    },
    {
     "data": {
      "text/plain": "28"
     },
     "execution_count": 29,
     "metadata": {},
     "output_type": "execute_result"
    }
   ],
   "source": [
    "# вот сейчас будет что-то более интересное, в кратце: найти страны где зараженных больше 5000, присвоить им отдельную колонку\n",
    "# выведем количество стран, где зараженных меньше нашей границы, и нарисуем произвольный график\n",
    "\n",
    "# import numpy as np\n",
    "# filt_more_active = np.where(data_country['Active'] > 5000) # возвращает порядковый номер элемента\n",
    "# data_country.iloc[filt_more_active] # помним, что iloc обращается по порядковому номеру\n",
    "# варианты как искользовать те же самые условия через numpy()\n",
    "\n",
    "filt_more_active = data_country['Active'] > 5000\n",
    "list_more_active = data_country[filt_more_active].index # создаем список стран в которык число активно зараженных больше 5000\n",
    "print(list_more_active, len(list_more_active), sep='\\n')\n",
    "data_country['iter'] = 0 # добавляем новую колонку и заполняем нулями\n",
    "# пройдем по каждому эллементу индекса фрейма, если он находится в нашем списке list_more_active, то элемент с колонки iter меняется на 10\n",
    "for l in data_country.index:\n",
    "    if l in list_more_active:\n",
    "        data_country.loc[l]['iter'] = 1\n",
    "\n",
    "\n",
    "data_country # посмотрим что получилось\n",
    "data_country['iter'].sum()"
   ],
   "metadata": {
    "collapsed": false,
    "pycharm": {
     "name": "#%%\n"
    }
   }
  },
  {
   "cell_type": "code",
   "execution_count": 30,
   "outputs": [],
   "source": [
    "import matplotlib.pyplot as plt\n",
    "import numpy as np"
   ],
   "metadata": {
    "collapsed": false,
    "pycharm": {
     "name": "#%%\n"
    }
   }
  },
  {
   "cell_type": "code",
   "execution_count": 31,
   "outputs": [
    {
     "data": {
      "text/plain": "<Figure size 432x288 with 1 Axes>",
      "image/png": "[encoded data removed]"
     },
     "metadata": {},
     "output_type": "display_data"
    }
   ],
   "source": [
    "labels = ['Ukraine', 'China', 'Russia', 'Serbia']\n",
    "values = [data_country.loc['Ukraine']['Confirmed'], data_country.loc['China']['Confirmed']\n",
    "         ,data_country.loc['Russia']['Confirmed'], data_country.loc['Serbia']['Confirmed']]\n",
    "\n",
    "plt.pie(values, labels = labels, radius = 2, explode = [0.2,0,0,0],colors = ['#d6426c','#f5e907','#c46e27','#48a7d4'], shadow = True)\n",
    "plt.show()"
   ],
   "metadata": {
    "collapsed": false,
    "pycharm": {
     "name": "#%%\n"
    }
   }
  }
 ],
 "metadata": {
  "kernelspec": {
   "display_name": "Python 3",
   "language": "python",
   "name": "python3"
  },
  "language_info": {
   "codemirror_mode": {
    "name": "ipython",
    "version": 2
   },
   "file_extension": ".py",
   "mimetype": "text/x-python",
   "name": "python",
   "nbconvert_exporter": "python",
   "pygments_lexer": "ipython2",
   "version": "2.7.6"
  }
 },
 "nbformat": 4,
 "nbformat_minor": 0
}